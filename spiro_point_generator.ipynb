{
 "cells": [
  {
   "cell_type": "code",
   "execution_count": 5,
   "id": "17e6098a",
   "metadata": {},
   "outputs": [],
   "source": [
    "import math\n",
    "\n",
    "R, r, a = 6, 1, 8\n",
    "TTx = -118.28543607363646\n",
    "TTy = 34.0207397295215\n",
    "t = 0.00\n",
    "\n",
    "with open(\"spiro.kml\", 'w') as f:\n",
    
    "    f.write('<?xml version=\"1.0\" encoding=\"UTF-8\"?>\\n')\n",
    "    f.write('<kml xmlns=\"http://earth.google.com/kml/2.0\">\\n')\n",
    "    f.write('<Document>\\n')\n",
    "    f.write('<Style id=\"z1\">\\n')\n",
    "    f.write('<IconStyle><Icon><href>http://www.google.com/intl/en_us/mapfiles/ms/micons/blue-dot.png</href></Icon></IconStyle>\\n')\n",
    "    f.write('</Style>\\n')\n",
    "    f.write('<Placemark>\\n')\n",
    "    f.write('<styleUrl>#z1</styleUrl><Point><coordinates>-118.28543607363646,34.0207397295215</coordinates></Point>\\n')\n",
    "    f.write('</Placemark>\\n')\n",
    "    f.write('<Placemark>\\n')\n",
    "    f.write('<name>Spiro curve</name>\\n')\n",
    "    f.write('<Style><LineStyle><color>ff0000ff</color><width>2</width></LineStyle></Style>\\n')\n",
    "    f.write('<LineString>\\n')\n",
    "    f.write('<coordinates>\\n')\n",
    "    \n",
    
    "    while t < 16 * math.pi:\n",
    "        coord = \"\"\n",
    "        x = (R + r) * math.cos((r / R) * t) - a * math.cos((1 + r / R) * t) \n",
    "        y = (R + r) * math.sin((r / R) * t) - a * math.sin((1 + r / R) * t) \n",
    "        new_x = x/10000 +TTx\n",
    "        new_y = y/10000 +TTy\n",
    "        coord = str(new_x)+ ',' +str(new_y) + '\\n'\n",
    "        f.write(coord)\n",
    "        t += 0.01\n",
    "\n",
    "    f.write('</coordinates>\\n')\n",
    "    f.write('</LineString>\\n')\n",
    "    f.write('</Placemark>\\n')\n",
    "    f.write('</Document></kml>\\n')"
   ]
  },
  {
   "cell_type": "code",
   "execution_count": null,
   "id": "b315bda3",
   "metadata": {},
   "outputs": [],
   "source": []
  }
 ],
 "metadata": {
  "kernelspec": {
   "display_name": "Python 3 (ipykernel)",
   "language": "python",
   "name": "python3"
  },
  "language_info": {
   "codemirror_mode": {
    "name": "ipython",
    "version": 3
   },
   "file_extension": ".py",
   "mimetype": "text/x-python",
   "name": "python",
   "nbconvert_exporter": "python",
   "pygments_lexer": "ipython3",
   "version": "3.10.9"
  }
 },
 "nbformat": 4,
 "nbformat_minor": 5
}
